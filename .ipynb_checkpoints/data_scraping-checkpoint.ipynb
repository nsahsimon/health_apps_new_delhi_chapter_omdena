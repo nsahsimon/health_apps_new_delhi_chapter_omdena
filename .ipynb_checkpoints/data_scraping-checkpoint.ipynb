{
 "cells": [
  {
   "cell_type": "code",
   "execution_count": 1,
   "metadata": {
    "executionInfo": {
     "elapsed": 17,
     "status": "ok",
     "timestamp": 1675476802909,
     "user": {
      "displayName": "nsah simon",
      "userId": "16754988715758719113"
     },
     "user_tz": -60
    },
    "id": "j2eoI2GlMiXM"
   },
   "outputs": [],
   "source": [
    "from google.colab import drive\n",
    "import os"
   ]
  },
  {
   "cell_type": "code",
   "execution_count": 3,
   "metadata": {
    "colab": {
     "base_uri": "https://localhost:8080/"
    },
    "executionInfo": {
     "elapsed": 10646,
     "status": "ok",
     "timestamp": 1675476893659,
     "user": {
      "displayName": "nsah simon",
      "userId": "16754988715758719113"
     },
     "user_tz": -60
    },
    "id": "MHGPj9ToMvZK",
    "outputId": "b0ff6243-0e00-4a5b-d7c9-e85f1fcf38f3"
   },
   "outputs": [
    {
     "name": "stdout",
     "output_type": "stream",
     "text": [
      "Mounted at /content/drive\n"
     ]
    }
   ],
   "source": [
    "drive.mount(\"/content/drive\")"
   ]
  },
  {
   "cell_type": "code",
   "execution_count": 4,
   "metadata": {
    "colab": {
     "base_uri": "https://localhost:8080/"
    },
    "executionInfo": {
     "elapsed": 416,
     "status": "ok",
     "timestamp": 1675476927294,
     "user": {
      "displayName": "nsah simon",
      "userId": "16754988715758719113"
     },
     "user_tz": -60
    },
    "id": "IM5rfZAgM4_0",
    "outputId": "5fe92633-1ee1-4244-88d6-539de2e3d4f2"
   },
   "outputs": [
    {
     "name": "stdout",
     "output_type": "stream",
     "text": [
      "/content/drive/MyDrive/deep_learning_projects/Omdena_projects/health_apps_new_delhi_chapter_omdena\n"
     ]
    }
   ],
   "source": [
    "%cd drive/MyDrive/deep_learning_projects/Omdena_projects/health_apps_new_delhi_chapter_omdena/"
   ]
  },
  {
   "cell_type": "code",
   "execution_count": 5,
   "metadata": {
    "colab": {
     "base_uri": "https://localhost:8080/"
    },
    "executionInfo": {
     "elapsed": 1388,
     "status": "ok",
     "timestamp": 1675477070412,
     "user": {
      "displayName": "nsah simon",
      "userId": "16754988715758719113"
     },
     "user_tz": -60
    },
    "id": "hAzO5QM8NQ26",
    "outputId": "8b598651-c876-4dcb-9e5a-2716c42d6f3c"
   },
   "outputs": [
    {
     "name": "stdout",
     "output_type": "stream",
     "text": [
      "* \u001b[32mmain\u001b[m\n"
     ]
    }
   ],
   "source": [
    "!git branch"
   ]
  },
  {
   "cell_type": "code",
   "execution_count": null,
   "metadata": {
    "id": "-Q8sfcpQNyYc"
   },
   "outputs": [],
   "source": [
    "!git status"
   ]
  },
  {
   "cell_type": "code",
   "execution_count": 9,
   "metadata": {
    "executionInfo": {
     "elapsed": 1025,
     "status": "ok",
     "timestamp": 1675477496146,
     "user": {
      "displayName": "nsah simon",
      "userId": "16754988715758719113"
     },
     "user_tz": -60
    },
    "id": "RwLxIyZqPYqZ"
   },
   "outputs": [],
   "source": [
    "# configure git\n",
    "!git config --global user.name \"nsahsimon\"\n",
    "!git config --global user.email \"nsahsimonai01@gmail.com\""
   ]
  },
  {
   "cell_type": "code",
   "execution_count": 11,
   "metadata": {
    "colab": {
     "base_uri": "https://localhost:8080/"
    },
    "executionInfo": {
     "elapsed": 1743,
     "status": "ok",
     "timestamp": 1675477563855,
     "user": {
      "displayName": "nsah simon",
      "userId": "16754988715758719113"
     },
     "user_tz": -60
    },
    "id": "kkoAzJBxN2E2",
    "outputId": "85ab0472-3c79-46ef-fd0c-4e0adb4eee0f"
   },
   "outputs": [
    {
     "name": "stdout",
     "output_type": "stream",
     "text": [
      "[main 4a3d750] Created the data scapping notebook\n",
      " 1 file changed, 1 insertion(+), 1 deletion(-)\n",
      "Enumerating objects: 5, done.\n",
      "Counting objects: 100% (5/5), done.\n",
      "Delta compression using up to 2 threads\n",
      "Compressing objects: 100% (3/3), done.\n",
      "Writing objects: 100% (3/3), 484 bytes | 161.00 KiB/s, done.\n",
      "Total 3 (delta 1), reused 0 (delta 0)\n",
      "remote: Resolving deltas: 100% (1/1), completed with 1 local object.\u001b[K\n",
      "To https://github.com/nsahsimon/health_apps_new_delhi_chapter_omdena\n",
      "   5025f38..4a3d750  main -> main\n"
     ]
    }
   ],
   "source": [
    "# run this the first time only\n",
    "!git add .\n",
    "!git commit -m \"Created the data scapping notebook\"\n",
    "!git push origin main"
   ]
  },
  {
   "cell_type": "code",
   "execution_count": 13,
   "metadata": {
    "colab": {
     "base_uri": "https://localhost:8080/"
    },
    "executionInfo": {
     "elapsed": 12,
     "status": "ok",
     "timestamp": 1675477735990,
     "user": {
      "displayName": "nsah simon",
      "userId": "16754988715758719113"
     },
     "user_tz": -60
    },
    "id": "Nu82rkaJOHLe",
    "outputId": "56a40284-69b1-4929-e637-9e6f0761d164"
   },
   "outputs": [
    {
     "name": "stdout",
     "output_type": "stream",
     "text": [
      "Unstaged changes after reset:\n",
      "M\tdata_scraping.ipynb\n",
      "D\tgit_push.py\n"
     ]
    }
   ],
   "source": [
    "!git reset"
   ]
  },
  {
   "cell_type": "code",
   "execution_count": 17,
   "metadata": {
    "colab": {
     "base_uri": "https://localhost:8080/"
    },
    "executionInfo": {
     "elapsed": 14,
     "status": "ok",
     "timestamp": 1675477948282,
     "user": {
      "displayName": "nsah simon",
      "userId": "16754988715758719113"
     },
     "user_tz": -60
    },
    "id": "S4RddZTMRH12",
    "outputId": "c7f0922c-9ee5-4368-eede-fb2a60d5dbff"
   },
   "outputs": [
    {
     "name": "stdout",
     "output_type": "stream",
     "text": [
      "On branch main\n",
      "Your branch is up to date with 'origin/main'.\n",
      "\n",
      "Changes not staged for commit:\n",
      "  (use \"git add/rm <file>...\" to update what will be committed)\n",
      "  (use \"git restore <file>...\" to discard changes in working directory)\n",
      "\t\u001b[31mmodified:   data_scraping.ipynb\u001b[m\n",
      "\t\u001b[31mdeleted:    git_push.py\u001b[m\n",
      "\n",
      "Untracked files:\n",
      "  (use \"git add <file>...\" to include in what will be committed)\n",
      "\t\u001b[31m.gitignore\u001b[m\n",
      "\n",
      "no changes added to commit (use \"git add\" and/or \"git commit -a\")\n"
     ]
    }
   ],
   "source": [
    "!git status"
   ]
  },
  {
   "cell_type": "code",
   "execution_count": null,
   "metadata": {
    "id": "wgNFN2R6RJKG"
   },
   "outputs": [],
   "source": [
    "!git add ."
   ]
  },
  {
   "cell_type": "code",
   "execution_count": null,
   "metadata": {},
   "outputs": [],
   "source": [
    "# setting up selenium"
   ]
  }
 ],
 "metadata": {
  "colab": {
   "authorship_tag": "ABX9TyN/XWGyLXOpAgcMjJotUYVD",
   "provenance": []
  },
  "kernelspec": {
   "display_name": "Python 3",
   "language": "python",
   "name": "python3"
  },
  "language_info": {
   "codemirror_mode": {
    "name": "ipython",
    "version": 3
   },
   "file_extension": ".py",
   "mimetype": "text/x-python",
   "name": "python",
   "nbconvert_exporter": "python",
   "pygments_lexer": "ipython3",
   "version": "3.7.9"
  }
 },
 "nbformat": 4,
 "nbformat_minor": 1
}
