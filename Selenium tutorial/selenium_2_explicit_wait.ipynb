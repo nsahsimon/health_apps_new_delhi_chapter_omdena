{
 "cells": [
  {
   "cell_type": "code",
   "execution_count": 4,
   "id": "007c92a2",
   "metadata": {},
   "outputs": [],
   "source": [
    "from selenium import webdriver"
   ]
  },
  {
   "cell_type": "code",
   "execution_count": 5,
   "id": "7be8de77",
   "metadata": {},
   "outputs": [],
   "source": [
    "path = \"C:\\Program Files (x86)\\chromedriver.exe\""
   ]
  },
  {
   "cell_type": "code",
   "execution_count": 13,
   "id": "4e47bdd4",
   "metadata": {
    "scrolled": false
   },
   "outputs": [
    {
     "name": "stderr",
     "output_type": "stream",
     "text": [
      "C:\\Users\\SIMON\\AppData\\Roaming\\Python\\Python37\\site-packages\\ipykernel_launcher.py:2: DeprecationWarning: executable_path has been deprecated, please pass in a Service object\n",
      "  \n"
     ]
    }
   ],
   "source": [
    "# open a webpage\n",
    "driver = webdriver.Chrome(path)\n",
    "driver.get(\"https://www.google.com\")"
   ]
  },
  {
   "cell_type": "code",
   "execution_count": 15,
   "id": "7cd2b99d",
   "metadata": {},
   "outputs": [
    {
     "name": "stdout",
     "output_type": "stream",
     "text": [
      "Successfully executed a search!!\n"
     ]
    }
   ],
   "source": [
    "# Explicit wait allows you to wait until a certain condition is met\n",
    "from selenium.webdriver.common.by import By\n",
    "from selenium.webdriver.support.ui import WebDriverWait\n",
    "from selenium.webdriver.support import expected_conditions as EC\n",
    "\n",
    "WebDriverWait(driver, 300).until(\n",
    "    EC.presence_of_element_located(\n",
    "        (By.ID, \"hdtb-tls\")\n",
    "    )\n",
    "#     EC.text_to_be_present_in_element(\n",
    "#         (By.ID, 'progress-label'), # Element filtration\n",
    "#         'Complete!' # The expected text\n",
    "#     )\n",
    ")\n",
    "\n",
    "print(\"Successfully executed a search!!\")"
   ]
  },
  {
   "cell_type": "code",
   "execution_count": 16,
   "id": "9e811949",
   "metadata": {},
   "outputs": [],
   "source": [
    "driver.quit()"
   ]
  }
 ],
 "metadata": {
  "kernelspec": {
   "display_name": "Python 3",
   "language": "python",
   "name": "python3"
  },
  "language_info": {
   "codemirror_mode": {
    "name": "ipython",
    "version": 3
   },
   "file_extension": ".py",
   "mimetype": "text/x-python",
   "name": "python",
   "nbconvert_exporter": "python",
   "pygments_lexer": "ipython3",
   "version": "3.7.9"
  }
 },
 "nbformat": 4,
 "nbformat_minor": 5
}
