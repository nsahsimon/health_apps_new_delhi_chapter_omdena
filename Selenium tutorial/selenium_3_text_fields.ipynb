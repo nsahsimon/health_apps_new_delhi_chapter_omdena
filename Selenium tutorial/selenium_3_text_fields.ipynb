{
 "cells": [
  {
   "cell_type": "code",
   "execution_count": 38,
   "id": "af17d366",
   "metadata": {},
   "outputs": [],
   "source": [
    "from selenium import webdriver\n",
    "from selenium.webdriver.common.by import By\n",
    "from selenium.webdriver.support.ui import WebDriverWait\n",
    "from selenium.webdriver.support import expected_conditions as EC\n",
    "from selenium.webdriver.common.keys import Keys\n",
    "\n"
   ]
  },
  {
   "cell_type": "code",
   "execution_count": 39,
   "id": "c952bdc2",
   "metadata": {},
   "outputs": [],
   "source": [
    "path = \"C:\\Program Files (x86)\\chromedriver.exe\""
   ]
  },
  {
   "cell_type": "code",
   "execution_count": 40,
   "id": "96f35733",
   "metadata": {},
   "outputs": [
    {
     "name": "stderr",
     "output_type": "stream",
     "text": [
      "C:\\Users\\SIMON\\AppData\\Roaming\\Python\\Python37\\site-packages\\ipykernel_launcher.py:2: DeprecationWarning: executable_path has been deprecated, please pass in a Service object\n",
      "  \n"
     ]
    }
   ],
   "source": [
    "# open a webpage\n",
    "driver = webdriver.Chrome(path)\n",
    "driver.get(\"https://demo.seleniumeasy.com/basic-first-form-demo.html\")"
   ]
  },
  {
   "cell_type": "code",
   "execution_count": 41,
   "id": "0b1a7b8e",
   "metadata": {},
   "outputs": [],
   "source": [
    "firstField = driver.find_element(By.ID,\"sum1\")\n",
    "secondField = driver.find_element(By.ID,\"sum2\")"
   ]
  },
  {
   "cell_type": "code",
   "execution_count": 42,
   "id": "ceb488db",
   "metadata": {},
   "outputs": [],
   "source": [
    "firstField.send_keys(\"23\")\n",
    "secondField.send_keys(\"43\")"
   ]
  },
  {
   "cell_type": "code",
   "execution_count": 44,
   "id": "a83958c1",
   "metadata": {},
   "outputs": [],
   "source": [
    "#filter out button get total button using css selector\n",
    "totalButton = driver.find_element(By.CSS_SELECTOR, 'button[onclick=\"return total()\"]')\n",
    "totalButton.click()"
   ]
  },
  {
   "cell_type": "code",
   "execution_count": 45,
   "id": "f2db48fc",
   "metadata": {},
   "outputs": [],
   "source": [
    "driver.quit()"
   ]
  }
 ],
 "metadata": {
  "kernelspec": {
   "display_name": "Python 3",
   "language": "python",
   "name": "python3"
  },
  "language_info": {
   "codemirror_mode": {
    "name": "ipython",
    "version": 3
   },
   "file_extension": ".py",
   "mimetype": "text/x-python",
   "name": "python",
   "nbconvert_exporter": "python",
   "pygments_lexer": "ipython3",
   "version": "3.7.9"
  }
 },
 "nbformat": 4,
 "nbformat_minor": 5
}
