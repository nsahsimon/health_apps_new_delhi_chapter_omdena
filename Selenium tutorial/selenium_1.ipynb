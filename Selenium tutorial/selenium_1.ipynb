{
 "cells": [
  {
   "cell_type": "code",
   "execution_count": 2,
   "id": "c792e3d6",
   "metadata": {},
   "outputs": [],
   "source": [
    "from selenium import webdriver"
   ]
  },
  {
   "cell_type": "code",
   "execution_count": 23,
   "id": "b8a3d545",
   "metadata": {},
   "outputs": [],
   "source": [
    "path = \"C:\\Program Files (x86)\\chromedriver.exe\""
   ]
  },
  {
   "cell_type": "code",
   "execution_count": 30,
   "id": "d6f48936",
   "metadata": {},
   "outputs": [
    {
     "name": "stderr",
     "output_type": "stream",
     "text": [
      "C:\\Users\\SIMON\\AppData\\Roaming\\Python\\Python37\\site-packages\\ipykernel_launcher.py:2: DeprecationWarning: executable_path has been deprecated, please pass in a Service object\n",
      "  \n"
     ]
    }
   ],
   "source": [
    "# open a webpage\n",
    "driver = webdriver.Chrome(path)\n",
    "driver.get(\"https://web.facebook.com\")"
   ]
  },
  {
   "cell_type": "code",
   "execution_count": 9,
   "id": "b1ddeab8",
   "metadata": {},
   "outputs": [],
   "source": [
    "# driver.quit()"
   ]
  },
  {
   "cell_type": "code",
   "execution_count": 25,
   "id": "3210fc3c",
   "metadata": {},
   "outputs": [],
   "source": [
    "import time"
   ]
  },
  {
   "cell_type": "code",
   "execution_count": 31,
   "id": "4fd99534",
   "metadata": {},
   "outputs": [],
   "source": [
    "# Enter the login details\n",
    "emailField = driver.find_element(by='id',value='email') # identifying a search box with name 's'\n",
    "emailField.send_keys(\"675709781\")\n",
    "pwdField = driver.find_element(by='id', value='pass')\n",
    "pwdField.send_keys(\"#cuteboy_#20J\")"
   ]
  },
  {
   "cell_type": "code",
   "execution_count": 33,
   "id": "7d49e12e",
   "metadata": {},
   "outputs": [],
   "source": [
    "# locate and click on the facebook button\n",
    "# Defines the Maximum time finding an element should take.\n",
    "driver.implicitly_wait(30) \n",
    "loginButton = driver.find_element(by='id',value='u_0_5_nt') # identifying a search box with name 's'\n",
    "loginButton.click()"
   ]
  },
  {
   "cell_type": "code",
   "execution_count": null,
   "id": "55341fc0",
   "metadata": {},
   "outputs": [],
   "source": []
  },
  {
   "cell_type": "code",
   "execution_count": null,
   "id": "f9942228",
   "metadata": {},
   "outputs": [],
   "source": []
  },
  {
   "cell_type": "code",
   "execution_count": 29,
   "id": "86c00697",
   "metadata": {},
   "outputs": [],
   "source": [
    "driver.quit()"
   ]
  },
  {
   "cell_type": "code",
   "execution_count": null,
   "id": "d81d6741",
   "metadata": {},
   "outputs": [],
   "source": []
  }
 ],
 "metadata": {
  "kernelspec": {
   "display_name": "Python 3",
   "language": "python",
   "name": "python3"
  },
  "language_info": {
   "codemirror_mode": {
    "name": "ipython",
    "version": 3
   },
   "file_extension": ".py",
   "mimetype": "text/x-python",
   "name": "python",
   "nbconvert_exporter": "python",
   "pygments_lexer": "ipython3",
   "version": "3.7.9"
  }
 },
 "nbformat": 4,
 "nbformat_minor": 5
}
